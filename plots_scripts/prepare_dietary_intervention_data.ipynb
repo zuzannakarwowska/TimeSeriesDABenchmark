{
 "cells": [
  {
   "cell_type": "code",
   "execution_count": 1,
   "id": "a3dae5ad-a2e8-41d5-910d-3b382a79aac2",
   "metadata": {},
   "outputs": [],
   "source": [
    "import pandas as pd\n",
    "import glob"
   ]
  },
  {
   "cell_type": "markdown",
   "id": "f2f426ee-24e8-4f78-a3af-90a030f0a918",
   "metadata": {},
   "source": [
    "## Dahl"
   ]
  },
  {
   "cell_type": "code",
   "execution_count": 51,
   "id": "9a2b8c85-ea6a-4e6e-a0c9-01635edc68f7",
   "metadata": {},
   "outputs": [
    {
     "data": {
      "text/plain": [
       "((34, 7272), (34, 6))"
      ]
     },
     "execution_count": 51,
     "metadata": {},
     "output_type": "execute_result"
    }
   ],
   "source": [
    "dataset_name = 'dahl'\n",
    "\n",
    "dahl_df = pd.read_csv('real_datasets/dietary_interventions/dahl_OTU_table_paired_reads.tsv', skiprows=1, sep = '\\t').iloc[:, 1:].set_index('taxonomy').T\n",
    "dahl_df.index = dahl_df.reset_index()['index'].rename(\"Sample_ID\").astype(int)\n",
    "\n",
    "dahl_metadata = pd.read_csv('real_datasets/dietary_interventions/dahl_metadata_final.txt', sep = '\\t')\n",
    "\n",
    "dahl_metadata = (pd.read_csv('real_datasets/dietary_interventions/dahl_metadata_final.txt', sep = '\\t')\n",
    "                 .query(\"fiber_type == 'potato_RS4A' and treatment == 'fiber'\")\n",
    "                )\n",
    "# Get only fiber data\n",
    "dahl_metadata = dahl_metadata[['sample_id_2', 'subject_id', 'treatment', 'timepoint', 'timepoint_numeric', 'study']]\n",
    "\n",
    "# Filter Counts\n",
    "dahl_df = dahl_df[dahl_df.index.isin(dahl_metadata.sample_id_2.tolist())]\n",
    "dahl_df.shape, dahl_metadata.shape"
   ]
  },
  {
   "cell_type": "markdown",
   "id": "414a17bf-b0c4-4073-87f8-17628e44915a",
   "metadata": {},
   "source": [
    "## Baxter"
   ]
  },
  {
   "cell_type": "code",
   "execution_count": 195,
   "id": "38e38c22-af8f-4456-8c72-1fc9da72ace6",
   "metadata": {},
   "outputs": [
    {
     "data": {
      "text/plain": [
       "((153, 7029), (153, 6))"
      ]
     },
     "execution_count": 195,
     "metadata": {},
     "output_type": "execute_result"
    }
   ],
   "source": [
    "dataset_name = 'baxter'\n",
    "\n",
    "baxter_df = pd.read_csv(f'real_datasets/dietary_interventions/{dataset_name}_OTU_table_paired_reads.tsv', skiprows=1, sep = '\\t').iloc[:, 1:].set_index('taxonomy').T\n",
    "baxter_df.index = baxter_df.reset_index()['index'].rename(\"Sample_ID\")\n",
    "\n",
    "baxter_metadata = pd.read_csv(f'real_datasets/dietary_interventions/{dataset_name}_metadata_final.txt', sep = '\\t')\n",
    "baxter_metadata = baxter_metadata.query(\"treatment == 'fiber' and fiber_type == 'potato' and timepoint_numeric in ['1', '5', '6', '7', '8']\")\n",
    "\n",
    "baxter_metadata = baxter_metadata[['sample_id_2', 'subject_id', 'treatment', 'timepoint', 'timepoint_numeric', 'study']]\n",
    "\n",
    "# Filter Counts\n",
    "baxter_df = baxter_df[baxter_df.index.isin(baxter_metadata.sample_id_2.tolist())]\n",
    "baxter_df.shape, baxter_metadata.shape"
   ]
  },
  {
   "cell_type": "markdown",
   "id": "86de78ef-a640-43e9-bb65-81dad1a330ec",
   "metadata": {},
   "source": [
    "## Morales"
   ]
  },
  {
   "cell_type": "code",
   "execution_count": 210,
   "id": "8a1debaa-58cd-43b3-9a55-c317799c1cc4",
   "metadata": {},
   "outputs": [
    {
     "data": {
      "text/plain": [
       "((14, 5), (14, 5))"
      ]
     },
     "execution_count": 210,
     "metadata": {},
     "output_type": "execute_result"
    }
   ],
   "source": [
    "dataset_name = 'morales'\n",
    "\n",
    "morales_df = pd.read_csv(f'real_datasets/dietary_interventions/{dataset_name}_OTU_table_paired_reads.tsv', skiprows=1, sep = '\\t').iloc[:, 1:].set_index('taxonomy').T\n",
    "morales_df.index = morales_df.reset_index()['index'].rename(\"Sample_ID\")\n",
    "\n",
    "morales_metadata = pd.read_csv(f'real_datasets/dietary_interventions/{dataset_name}_metadata_final.txt', sep = '\\t')\n",
    "morales_metadata = morales_metadata[['sample_id_2', 'subject_id', 'treatment', 'timepoint', 'study']].query(\"treatment == 'fiber'\")\n",
    "\n",
    "# Filter Counts\n",
    "morales_metadata = morales_metadata[morales_metadata.index.isin(morales_metadata.sample_id_2.tolist())]\n",
    "morales_metadata.shape, morales_metadata.shape"
   ]
  },
  {
   "cell_type": "markdown",
   "id": "17b0371e-442e-4c7e-a39c-0a8543d0eb90",
   "metadata": {},
   "source": [
    "## Deehan"
   ]
  },
  {
   "cell_type": "raw",
   "id": "1e371dfe-8be5-40e2-a0f1-d2dae3dde1dd",
   "metadata": {},
   "source": [
    "dataset_name = 'deehan'\n",
    "\n",
    "deehan_df = pd.read_csv(f'real_datasets/dietary_interventions/{dataset_name}_OTU_table_paired_reads.tsv', skiprows=1, sep = '\\t').iloc[:, 1:].set_index('taxonomy').T\n",
    "deehan_df.index = deehan_df.reset_index()['index'].rename(\"Sample_ID\")\n",
    "\n",
    "deehan_metadata = pd.read_csv(f'real_datasets/dietary_interventions/{dataset_name}_metadata_final.txt', sep = '\\t')\n",
    "deehan_metadata = deehan_metadata[['sample_id_2', 'subject_id', 'treatment', 'timepoint', 'timepoint_numeric', 'study']].query(\"treatment == 'fiber'\")\n",
    "\n",
    "# Filter Counts\n",
    "deehan_df = deehan_df[deehan_df.index.isin(deehan_metadata.sample_id_2.tolist())]\n",
    "deehan_df.shape, deehan_metadata.shape"
   ]
  },
  {
   "cell_type": "markdown",
   "id": "0eae9a4e-c7c4-4879-b729-923c617e6c87",
   "metadata": {},
   "source": [
    "## venkataraman"
   ]
  },
  {
   "cell_type": "code",
   "execution_count": 258,
   "id": "f876d485-f86d-47f8-9ac8-dd7281c1abfe",
   "metadata": {},
   "outputs": [
    {
     "data": {
      "text/plain": [
       "((157, 2029), (200, 16))"
      ]
     },
     "execution_count": 258,
     "metadata": {},
     "output_type": "execute_result"
    }
   ],
   "source": [
    "dataset_name = 'venkataraman'\n",
    "\n",
    "venkataraman_df = (pd.read_csv(f'real_datasets/dietary_interventions/{dataset_name}_OTU_table_paired_reads.tsv', \n",
    "                               skiprows=1,\n",
    "                               sep = '\\t').iloc[:, 1:].set_index('Taxonomy').T)\n",
    "venkataraman_metadata = pd.read_csv(f'real_datasets/dietary_interventions/{dataset_name}_metadata_final.txt', sep = '\\t')\n",
    "venkataraman_metadata = venkataraman_metadata[['sample_id_2', 'subject_id', 'treatment', 'timepoint', 'timepoint_numeric', 'study']].query(\"treatment == 'fiber'\")\n",
    "\n",
    "# Filter Counts\n",
    "venkataraman_df = venkataraman_df[venkataraman_df.index.isin(venkataraman_metadata.sample_id_2.tolist())]\n",
    "venkataraman_df.shape, deehan_metadata.shape"
   ]
  },
  {
   "cell_type": "code",
   "execution_count": 264,
   "id": "acbad31c-c61f-4f2f-9949-efddf27bc444",
   "metadata": {},
   "outputs": [
    {
     "data": {
      "text/html": [
       "<div>\n",
       "<style scoped>\n",
       "    .dataframe tbody tr th:only-of-type {\n",
       "        vertical-align: middle;\n",
       "    }\n",
       "\n",
       "    .dataframe tbody tr th {\n",
       "        vertical-align: top;\n",
       "    }\n",
       "\n",
       "    .dataframe thead th {\n",
       "        text-align: right;\n",
       "    }\n",
       "</style>\n",
       "<table border=\"1\" class=\"dataframe\">\n",
       "  <thead>\n",
       "    <tr style=\"text-align: right;\">\n",
       "      <th></th>\n",
       "      <th>sampleid</th>\n",
       "      <th>study</th>\n",
       "      <th>sample_id_2</th>\n",
       "      <th>subject_id</th>\n",
       "      <th>treatment</th>\n",
       "      <th>timepoint</th>\n",
       "      <th>timepoint_numeric</th>\n",
       "      <th>timepoint_id</th>\n",
       "      <th>sample_name</th>\n",
       "      <th>fiber_type</th>\n",
       "      <th>fiber_amount</th>\n",
       "      <th>time_days</th>\n",
       "      <th>number</th>\n",
       "      <th>gender</th>\n",
       "      <th>age</th>\n",
       "      <th>sample-name-original</th>\n",
       "    </tr>\n",
       "  </thead>\n",
       "  <tbody>\n",
       "    <tr>\n",
       "      <th>0</th>\n",
       "      <td>venkataraman_SRR3053238</td>\n",
       "      <td>venkataraman</td>\n",
       "      <td>SRR3053238</td>\n",
       "      <td>venkataraman_U001</td>\n",
       "      <td>fiber</td>\n",
       "      <td>before</td>\n",
       "      <td>1</td>\n",
       "      <td>before_1</td>\n",
       "      <td>venkataraman_U001_1</td>\n",
       "      <td>potato_starch</td>\n",
       "      <td>48g</td>\n",
       "      <td>1d</td>\n",
       "      <td>1</td>\n",
       "      <td>NaN</td>\n",
       "      <td>NaN</td>\n",
       "      <td>U001_1</td>\n",
       "    </tr>\n",
       "    <tr>\n",
       "      <th>1</th>\n",
       "      <td>venkataraman_SRR3053239</td>\n",
       "      <td>venkataraman</td>\n",
       "      <td>SRR3053239</td>\n",
       "      <td>venkataraman_U001</td>\n",
       "      <td>fiber</td>\n",
       "      <td>before</td>\n",
       "      <td>2</td>\n",
       "      <td>before_2</td>\n",
       "      <td>venkataraman_U001_2</td>\n",
       "      <td>potato_starch</td>\n",
       "      <td>48g</td>\n",
       "      <td>3d</td>\n",
       "      <td>2</td>\n",
       "      <td>NaN</td>\n",
       "      <td>NaN</td>\n",
       "      <td>U001_2</td>\n",
       "    </tr>\n",
       "    <tr>\n",
       "      <th>2</th>\n",
       "      <td>venkataraman_SRR3053240</td>\n",
       "      <td>venkataraman</td>\n",
       "      <td>SRR3053240</td>\n",
       "      <td>venkataraman_U001</td>\n",
       "      <td>fiber</td>\n",
       "      <td>before</td>\n",
       "      <td>3</td>\n",
       "      <td>before_3</td>\n",
       "      <td>venkataraman_U001_3</td>\n",
       "      <td>potato_starch</td>\n",
       "      <td>48g</td>\n",
       "      <td>5d</td>\n",
       "      <td>3</td>\n",
       "      <td>NaN</td>\n",
       "      <td>NaN</td>\n",
       "      <td>U001_3</td>\n",
       "    </tr>\n",
       "    <tr>\n",
       "      <th>3</th>\n",
       "      <td>venkataraman_SRR3053241</td>\n",
       "      <td>venkataraman</td>\n",
       "      <td>SRR3053241</td>\n",
       "      <td>venkataraman_U001</td>\n",
       "      <td>fiber</td>\n",
       "      <td>before</td>\n",
       "      <td>4</td>\n",
       "      <td>before_4</td>\n",
       "      <td>venkataraman_U001_4</td>\n",
       "      <td>potato_starch</td>\n",
       "      <td>48g</td>\n",
       "      <td>7d</td>\n",
       "      <td>4</td>\n",
       "      <td>NaN</td>\n",
       "      <td>NaN</td>\n",
       "      <td>U001_4</td>\n",
       "    </tr>\n",
       "    <tr>\n",
       "      <th>4</th>\n",
       "      <td>venkataraman_SRR3053242</td>\n",
       "      <td>venkataraman</td>\n",
       "      <td>SRR3053242</td>\n",
       "      <td>venkataraman_U001</td>\n",
       "      <td>fiber</td>\n",
       "      <td>after</td>\n",
       "      <td>5</td>\n",
       "      <td>after_5</td>\n",
       "      <td>venkataraman_U001_5</td>\n",
       "      <td>potato_starch</td>\n",
       "      <td>48g</td>\n",
       "      <td>11d</td>\n",
       "      <td>5</td>\n",
       "      <td>NaN</td>\n",
       "      <td>NaN</td>\n",
       "      <td>U001_5</td>\n",
       "    </tr>\n",
       "    <tr>\n",
       "      <th>...</th>\n",
       "      <td>...</td>\n",
       "      <td>...</td>\n",
       "      <td>...</td>\n",
       "      <td>...</td>\n",
       "      <td>...</td>\n",
       "      <td>...</td>\n",
       "      <td>...</td>\n",
       "      <td>...</td>\n",
       "      <td>...</td>\n",
       "      <td>...</td>\n",
       "      <td>...</td>\n",
       "      <td>...</td>\n",
       "      <td>...</td>\n",
       "      <td>...</td>\n",
       "      <td>...</td>\n",
       "      <td>...</td>\n",
       "    </tr>\n",
       "    <tr>\n",
       "      <th>152</th>\n",
       "      <td>venkataraman_SRR3053540</td>\n",
       "      <td>venkataraman</td>\n",
       "      <td>SRR3053540</td>\n",
       "      <td>venkataraman_U035</td>\n",
       "      <td>fiber</td>\n",
       "      <td>before</td>\n",
       "      <td>4</td>\n",
       "      <td>before_4</td>\n",
       "      <td>venkataraman_U035_4</td>\n",
       "      <td>potato_starch</td>\n",
       "      <td>48g</td>\n",
       "      <td>7d</td>\n",
       "      <td>153</td>\n",
       "      <td>NaN</td>\n",
       "      <td>NaN</td>\n",
       "      <td>U035_4</td>\n",
       "    </tr>\n",
       "    <tr>\n",
       "      <th>153</th>\n",
       "      <td>venkataraman_SRR3053541</td>\n",
       "      <td>venkataraman</td>\n",
       "      <td>SRR3053541</td>\n",
       "      <td>venkataraman_U035</td>\n",
       "      <td>fiber</td>\n",
       "      <td>after</td>\n",
       "      <td>5</td>\n",
       "      <td>after_5</td>\n",
       "      <td>venkataraman_U035_5</td>\n",
       "      <td>potato_starch</td>\n",
       "      <td>48g</td>\n",
       "      <td>11d</td>\n",
       "      <td>154</td>\n",
       "      <td>NaN</td>\n",
       "      <td>NaN</td>\n",
       "      <td>U035_5</td>\n",
       "    </tr>\n",
       "    <tr>\n",
       "      <th>154</th>\n",
       "      <td>venkataraman_SRR3053542</td>\n",
       "      <td>venkataraman</td>\n",
       "      <td>SRR3053542</td>\n",
       "      <td>venkataraman_U035</td>\n",
       "      <td>fiber</td>\n",
       "      <td>after</td>\n",
       "      <td>6</td>\n",
       "      <td>after_6</td>\n",
       "      <td>venkataraman_U035_6</td>\n",
       "      <td>potato_starch</td>\n",
       "      <td>48g</td>\n",
       "      <td>13d</td>\n",
       "      <td>155</td>\n",
       "      <td>NaN</td>\n",
       "      <td>NaN</td>\n",
       "      <td>U035_6</td>\n",
       "    </tr>\n",
       "    <tr>\n",
       "      <th>155</th>\n",
       "      <td>venkataraman_SRR3053543</td>\n",
       "      <td>venkataraman</td>\n",
       "      <td>SRR3053543</td>\n",
       "      <td>venkataraman_U035</td>\n",
       "      <td>fiber</td>\n",
       "      <td>after</td>\n",
       "      <td>7</td>\n",
       "      <td>after_7</td>\n",
       "      <td>venkataraman_U035_7</td>\n",
       "      <td>potato_starch</td>\n",
       "      <td>48g</td>\n",
       "      <td>15d</td>\n",
       "      <td>156</td>\n",
       "      <td>NaN</td>\n",
       "      <td>NaN</td>\n",
       "      <td>U035_7</td>\n",
       "    </tr>\n",
       "    <tr>\n",
       "      <th>156</th>\n",
       "      <td>venkataraman_SRR3053544</td>\n",
       "      <td>venkataraman</td>\n",
       "      <td>SRR3053544</td>\n",
       "      <td>venkataraman_U035</td>\n",
       "      <td>fiber</td>\n",
       "      <td>after</td>\n",
       "      <td>8</td>\n",
       "      <td>after_8</td>\n",
       "      <td>venkataraman_U035_8</td>\n",
       "      <td>potato_starch</td>\n",
       "      <td>48g</td>\n",
       "      <td>17d</td>\n",
       "      <td>157</td>\n",
       "      <td>NaN</td>\n",
       "      <td>NaN</td>\n",
       "      <td>U035_8</td>\n",
       "    </tr>\n",
       "  </tbody>\n",
       "</table>\n",
       "<p>157 rows × 16 columns</p>\n",
       "</div>"
      ],
      "text/plain": [
       "                    sampleid         study sample_id_2         subject_id  \\\n",
       "0    venkataraman_SRR3053238  venkataraman  SRR3053238  venkataraman_U001   \n",
       "1    venkataraman_SRR3053239  venkataraman  SRR3053239  venkataraman_U001   \n",
       "2    venkataraman_SRR3053240  venkataraman  SRR3053240  venkataraman_U001   \n",
       "3    venkataraman_SRR3053241  venkataraman  SRR3053241  venkataraman_U001   \n",
       "4    venkataraman_SRR3053242  venkataraman  SRR3053242  venkataraman_U001   \n",
       "..                       ...           ...         ...                ...   \n",
       "152  venkataraman_SRR3053540  venkataraman  SRR3053540  venkataraman_U035   \n",
       "153  venkataraman_SRR3053541  venkataraman  SRR3053541  venkataraman_U035   \n",
       "154  venkataraman_SRR3053542  venkataraman  SRR3053542  venkataraman_U035   \n",
       "155  venkataraman_SRR3053543  venkataraman  SRR3053543  venkataraman_U035   \n",
       "156  venkataraman_SRR3053544  venkataraman  SRR3053544  venkataraman_U035   \n",
       "\n",
       "    treatment timepoint  timepoint_numeric timepoint_id          sample_name  \\\n",
       "0       fiber    before                  1     before_1  venkataraman_U001_1   \n",
       "1       fiber    before                  2     before_2  venkataraman_U001_2   \n",
       "2       fiber    before                  3     before_3  venkataraman_U001_3   \n",
       "3       fiber    before                  4     before_4  venkataraman_U001_4   \n",
       "4       fiber     after                  5      after_5  venkataraman_U001_5   \n",
       "..        ...       ...                ...          ...                  ...   \n",
       "152     fiber    before                  4     before_4  venkataraman_U035_4   \n",
       "153     fiber     after                  5      after_5  venkataraman_U035_5   \n",
       "154     fiber     after                  6      after_6  venkataraman_U035_6   \n",
       "155     fiber     after                  7      after_7  venkataraman_U035_7   \n",
       "156     fiber     after                  8      after_8  venkataraman_U035_8   \n",
       "\n",
       "        fiber_type fiber_amount time_days  number  gender  age  \\\n",
       "0    potato_starch          48g        1d       1     NaN  NaN   \n",
       "1    potato_starch          48g        3d       2     NaN  NaN   \n",
       "2    potato_starch          48g        5d       3     NaN  NaN   \n",
       "3    potato_starch          48g        7d       4     NaN  NaN   \n",
       "4    potato_starch          48g       11d       5     NaN  NaN   \n",
       "..             ...          ...       ...     ...     ...  ...   \n",
       "152  potato_starch          48g        7d     153     NaN  NaN   \n",
       "153  potato_starch          48g       11d     154     NaN  NaN   \n",
       "154  potato_starch          48g       13d     155     NaN  NaN   \n",
       "155  potato_starch          48g       15d     156     NaN  NaN   \n",
       "156  potato_starch          48g       17d     157     NaN  NaN   \n",
       "\n",
       "    sample-name-original  \n",
       "0                 U001_1  \n",
       "1                 U001_2  \n",
       "2                 U001_3  \n",
       "3                 U001_4  \n",
       "4                 U001_5  \n",
       "..                   ...  \n",
       "152               U035_4  \n",
       "153               U035_5  \n",
       "154               U035_6  \n",
       "155               U035_7  \n",
       "156               U035_8  \n",
       "\n",
       "[157 rows x 16 columns]"
      ]
     },
     "execution_count": 264,
     "metadata": {},
     "output_type": "execute_result"
    }
   ],
   "source": [
    "venkataraman_metadata = pd.read_csv(f'real_datasets/dietary_interventions/{dataset_name}_metadata_final.txt', sep = '\\t')\n",
    "venkataraman_metadata"
   ]
  },
  {
   "cell_type": "markdown",
   "id": "61126c16-66b6-49f4-958a-8936d6dfd083",
   "metadata": {},
   "source": [
    "## Healey"
   ]
  },
  {
   "cell_type": "raw",
   "id": "9b06ec29-0153-4db1-9370-e033efd2b492",
   "metadata": {},
   "source": [
    "dataset_name = 'healey'\n",
    "\n",
    "healey_df = (pd.read_csv(f'real_datasets/dietary_interventions/{dataset_name}_OTU_table_paired_reads.tsv', \n",
    "                               skiprows=1,\n",
    "                               sep = '\\t').iloc[:, 1:].set_index('taxonomy').T)\n",
    "\n",
    "healey_metadata = pd.read_csv(f'real_datasets/dietary_interventions/{dataset_name}_metadata_final.txt', sep = '\\t')\n",
    "healey_metadata = healey_metadata[['sample_id_2', 'subject_id', 'treatment', 'timepoint', 'study']].query(\"treatment == 'fiber'\")\n",
    "\n",
    "# Filter Counts\n",
    "healey_df = healey_df[healey_df.index.isin(healey_metadata.sample_id_2.tolist())]\n",
    "healey_df.shape, healey_metadata.shape"
   ]
  },
  {
   "cell_type": "markdown",
   "id": "e91661a0-e82c-41e1-9750-00ffc51c32a7",
   "metadata": {},
   "source": [
    "## Merge files"
   ]
  },
  {
   "cell_type": "code",
   "execution_count": 237,
   "id": "ceefd04e-a672-4149-be8c-ca1c969a9f0d",
   "metadata": {},
   "outputs": [],
   "source": [
    "otu_tables = [baxter_df, venkataraman_df]#, venkataraman_df, healey_df, baxter_df]\n",
    "metadata   = [baxter_metadata, venkataraman_metadata]#, deehan_metadata, venkataraman_metadata, healey_metadata, baxter_metadata]"
   ]
  },
  {
   "cell_type": "code",
   "execution_count": 238,
   "id": "d4af795c-d502-40d1-bef0-ce25caee9c47",
   "metadata": {},
   "outputs": [],
   "source": [
    "metadata_merged = pd.concat(metadata, axis=0)\n",
    "\n",
    "metadata_merged = (metadata_merged.\n",
    "                   rename({\"sample_id_2\":\"Sample_ID\", \"subject_id\":\"Individual_ID\", \"timepoint\":\"Timepoint\"},\n",
    "                          axis=1)\n",
    "                  )\n",
    "metadata_merged['Timepoint'] = metadata_merged.Timepoint.replace({'before':0, 'after':1})"
   ]
  },
  {
   "cell_type": "code",
   "execution_count": 239,
   "id": "fccbc771-b3bc-48b5-b82c-3ff4eff04d17",
   "metadata": {},
   "outputs": [],
   "source": [
    "metadata_merged = metadata_merged.reset_index(drop=True)"
   ]
  },
  {
   "cell_type": "code",
   "execution_count": 240,
   "id": "603f7d2c-5650-44cf-8be0-5b5a03c136ad",
   "metadata": {},
   "outputs": [],
   "source": [
    "otu_tables_merged = pd.concat(otu_tables, axis=1)\n",
    "otu_tables_merged = otu_tables_merged.fillna(0).T"
   ]
  },
  {
   "cell_type": "code",
   "execution_count": 243,
   "id": "d3a353d0-8326-44e4-8966-9071f1987434",
   "metadata": {},
   "outputs": [],
   "source": [
    "import re\n",
    "\n",
    "species_names = otu_tables_merged.reset_index()['index'].str.split('; ', expand=True)[[5]].values\n",
    "cleaned_names = [re.sub(r\"[()\\[\\]'\\\",]\", \"\", str(name)) for name in species_names]\n",
    "\n",
    "otu_tables_merged.index = cleaned_names"
   ]
  },
  {
   "cell_type": "code",
   "execution_count": 244,
   "id": "8a57df2d-315f-4544-bf55-0f015ef91d43",
   "metadata": {},
   "outputs": [],
   "source": [
    "otu_tables_merged = otu_tables_merged.groupby(by = otu_tables_merged.index).sum()"
   ]
  },
  {
   "cell_type": "code",
   "execution_count": 247,
   "id": "9d65fcb2-5d58-41cb-af15-2a4fc8a113c0",
   "metadata": {},
   "outputs": [],
   "source": [
    "# filter counts based on 5% prevalence\n",
    "PA_filter = (otu_tables_merged\n",
    "             .iloc[2:]\n",
    "             .astype(bool)\n",
    "             .astype(int)\n",
    "             .sum(axis=1)\n",
    "             .reset_index()\n",
    "             .rename({0:'N'}, axis=1)\n",
    "            )\n",
    "\n",
    "PA_filtered_data = otu_tables_merged.loc[PA_filter[PA_filter['N'] > int(otu_tables_merged.shape[1]*0.05)]['index']]\n",
    "PA_filtered_data = PA_filtered_data.iloc[:-1]"
   ]
  },
  {
   "cell_type": "code",
   "execution_count": 248,
   "id": "478fce2d-c6de-479e-a830-5d7509dfc935",
   "metadata": {},
   "outputs": [],
   "source": [
    "# change to relative abundance\n",
    "relab_data = PA_filtered_data.div(PA_filtered_data.sum(axis=0), axis=1)\n",
    "\n",
    "# Calculate mean abundance\n",
    "mean_relab_data = relab_data.mean(axis=1).reset_index().rename({0:'N'}, axis=1)\n",
    "\n",
    "# Keep bacteria with high abundance\n",
    "keep_relab_bacteria = mean_relab_data.query(\"N > 1e-3\")['index']\n",
    "RelAB_filtered_data = PA_filtered_data.loc[keep_relab_bacteria]\n",
    "relab_counts = RelAB_filtered_data.div(RelAB_filtered_data.sum(axis=0), axis=1)\n",
    "\n",
    "# Rename features\n",
    "relab_counts.index = [f'feature{f}' for f in range(relab_counts.shape[0])]"
   ]
  },
  {
   "cell_type": "code",
   "execution_count": 249,
   "id": "a0eae5b2-39b1-4f8b-84b2-7a3a5509176f",
   "metadata": {},
   "outputs": [],
   "source": [
    "metadata_filtred = metadata_merged.drop_duplicates(subset = ['Sample_ID'], keep='first')\n",
    "\n",
    "common_idx = list(set(relab_counts.columns) & set(metadata_filtred.Sample_ID))\n",
    "\n",
    "relab_counts_filtred = relab_counts[common_idx]\n",
    "metadata_filtred = metadata_filtred[metadata_filtred.Sample_ID.isin(common_idx)]"
   ]
  },
  {
   "cell_type": "code",
   "execution_count": 250,
   "id": "4c85cc42-c813-4693-a956-3a09e2a87f5c",
   "metadata": {},
   "outputs": [
    {
     "data": {
      "text/plain": [
       "((310, 16), (76, 310))"
      ]
     },
     "execution_count": 250,
     "metadata": {},
     "output_type": "execute_result"
    }
   ],
   "source": [
    "metadata_filtred.shape, relab_counts_filtred.shape"
   ]
  },
  {
   "cell_type": "code",
   "execution_count": 251,
   "id": "58feafff-a350-4934-8970-25a48b523c79",
   "metadata": {},
   "outputs": [],
   "source": [
    "relab_counts_filtred.columns = [f'sample_{sample}' for sample in relab_counts_filtred.columns]\n",
    "metadata_filtred.Sample_ID = [f'sample_{sample}' for sample in metadata_filtred.Sample_ID.values]"
   ]
  },
  {
   "cell_type": "code",
   "execution_count": 252,
   "id": "8d08346a-5b5a-4c99-9d41-c5cf4c16fc79",
   "metadata": {},
   "outputs": [],
   "source": [
    "relab_counts_filtred.to_csv('real_datasets/baxter_otu_table.csv')\n",
    "metadata_filtred.to_csv('real_datasets/baxter_metadata.csv')"
   ]
  }
 ],
 "metadata": {
  "kernelspec": {
   "display_name": "ml_env",
   "language": "python",
   "name": "ml_env"
  },
  "language_info": {
   "codemirror_mode": {
    "name": "ipython",
    "version": 3
   },
   "file_extension": ".py",
   "mimetype": "text/x-python",
   "name": "python",
   "nbconvert_exporter": "python",
   "pygments_lexer": "ipython3",
   "version": "3.8.16"
  }
 },
 "nbformat": 4,
 "nbformat_minor": 5
}
