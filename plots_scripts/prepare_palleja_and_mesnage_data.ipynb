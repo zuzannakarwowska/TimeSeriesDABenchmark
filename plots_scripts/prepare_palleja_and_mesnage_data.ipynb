{
 "cells": [
  {
   "cell_type": "code",
   "execution_count": 1,
   "id": "75d429eb-18de-4d59-a977-e65bd328c379",
   "metadata": {},
   "outputs": [],
   "source": [
    "import pyreadr\n",
    "import pandas as pd\n",
    "from collections import Counter"
   ]
  },
  {
   "cell_type": "markdown",
   "id": "9e5cc7f9-75e6-4356-b9ce-fc486cfe37ee",
   "metadata": {},
   "source": [
    "## Palleja study - antibiotics \n",
    "Using samples collected at baseline (D0), immediately after antibiotic treatment (4 d after baseline; D4) and at three further time points (8, 42 and 180 d after baseline; D8, D42 and D180, respectively)"
   ]
  },
  {
   "cell_type": "code",
   "execution_count": 2,
   "id": "acd07b6c-e848-47ae-a50c-a430fc819844",
   "metadata": {},
   "outputs": [],
   "source": [
    "palleja_data = pyreadr.read_r('real_datasets/palleja_dataset/Palleja_2019_res_mOTUs.rds')[None]\n",
    "palleja_metadata = pd.read_csv('real_datasets/palleja_dataset/meta_palleja.tsv', sep = '\\t')"
   ]
  },
  {
   "cell_type": "code",
   "execution_count": 5,
   "id": "2efe90ef-2bb6-4251-80aa-216eb66b5563",
   "metadata": {},
   "outputs": [],
   "source": [
    "palleja_data.index = [f'feature{n}' for n in range(palleja_data.shape[0])]"
   ]
  },
  {
   "cell_type": "code",
   "execution_count": 6,
   "id": "48aa70e7-5f8a-428b-b6e5-234f7bb5829f",
   "metadata": {},
   "outputs": [],
   "source": [
    "# remove timepoint 0 \n",
    "filtered_palleja_metadata = palleja_metadata.query(\"Timepoint in [0, 4, 8]\")\n",
    "keep_samples = filtered_palleja_metadata.Sample_ID\n",
    "filtered_palleja_data = palleja_data[keep_samples]"
   ]
  },
  {
   "cell_type": "code",
   "execution_count": 7,
   "id": "b8e7d8b2-e2b8-4bb0-81be-945a4deeafec",
   "metadata": {},
   "outputs": [],
   "source": [
    "# filter counts\n",
    "PA_filter = (filtered_palleja_data\n",
    "             .astype(bool)\n",
    "             .astype(int)\n",
    "             .sum(axis=1)\n",
    "             .reset_index()\n",
    "             .rename({0:'N'}, axis=1)\n",
    "            )\n",
    "\n",
    "PA_filtered_data = filtered_palleja_data.loc[PA_filter[PA_filter['N'] > int(filtered_palleja_data.shape[1]*0.05)]['index']]\n",
    "PA_filtered_data = PA_filtered_data.iloc[:-1]"
   ]
  },
  {
   "cell_type": "code",
   "execution_count": 8,
   "id": "9d220bff-5954-41d8-bddd-637793663717",
   "metadata": {},
   "outputs": [],
   "source": [
    "# change to relative abundance\n",
    "relab_data = PA_filtered_data.div(PA_filtered_data.sum(axis=0), axis=1)\n",
    "\n",
    "# Calculate mean abundance\n",
    "mean_relab_data = relab_data.mean(axis=1).reset_index().rename({0:'N'}, axis=1)\n",
    "\n",
    "# Keep bacteria with high abundance\n",
    "keep_relab_bacteria = mean_relab_data.query(\"N > 1e-3\")['index']\n",
    "RelAB_filtered_data = PA_filtered_data.loc[keep_relab_bacteria]\n",
    "relab_counts = RelAB_filtered_data.div(RelAB_filtered_data.sum(axis=0), axis=1)"
   ]
  },
  {
   "cell_type": "code",
   "execution_count": 9,
   "id": "4082b3b7-4c24-4860-8007-d3709972c8b7",
   "metadata": {},
   "outputs": [
    {
     "data": {
      "text/html": [
       "<div>\n",
       "<style scoped>\n",
       "    .dataframe tbody tr th:only-of-type {\n",
       "        vertical-align: middle;\n",
       "    }\n",
       "\n",
       "    .dataframe tbody tr th {\n",
       "        vertical-align: top;\n",
       "    }\n",
       "\n",
       "    .dataframe thead th {\n",
       "        text-align: right;\n",
       "    }\n",
       "</style>\n",
       "<table border=\"1\" class=\"dataframe\">\n",
       "  <thead>\n",
       "    <tr style=\"text-align: right;\">\n",
       "      <th></th>\n",
       "      <th>Sample_ID</th>\n",
       "      <th>Individual_ID</th>\n",
       "      <th>Timepoint</th>\n",
       "      <th>Library_size</th>\n",
       "    </tr>\n",
       "  </thead>\n",
       "  <tbody>\n",
       "    <tr>\n",
       "      <th>0</th>\n",
       "      <td>ERAS1_Dag0</td>\n",
       "      <td>ERAS1</td>\n",
       "      <td>0</td>\n",
       "      <td>36059111</td>\n",
       "    </tr>\n",
       "    <tr>\n",
       "      <th>3</th>\n",
       "      <td>ERAS1_Dag8</td>\n",
       "      <td>ERAS1</td>\n",
       "      <td>8</td>\n",
       "      <td>47105411</td>\n",
       "    </tr>\n",
       "    <tr>\n",
       "      <th>4</th>\n",
       "      <td>ERAS10_Dag0</td>\n",
       "      <td>ERAS10</td>\n",
       "      <td>0</td>\n",
       "      <td>32605800</td>\n",
       "    </tr>\n",
       "    <tr>\n",
       "      <th>7</th>\n",
       "      <td>ERAS10_Dag8</td>\n",
       "      <td>ERAS10</td>\n",
       "      <td>8</td>\n",
       "      <td>27708254</td>\n",
       "    </tr>\n",
       "    <tr>\n",
       "      <th>8</th>\n",
       "      <td>ERAS11_Dag0</td>\n",
       "      <td>ERAS11</td>\n",
       "      <td>0</td>\n",
       "      <td>33813547</td>\n",
       "    </tr>\n",
       "  </tbody>\n",
       "</table>\n",
       "</div>"
      ],
      "text/plain": [
       "     Sample_ID Individual_ID  Timepoint  Library_size\n",
       "0   ERAS1_Dag0         ERAS1          0      36059111\n",
       "3   ERAS1_Dag8         ERAS1          8      47105411\n",
       "4  ERAS10_Dag0        ERAS10          0      32605800\n",
       "7  ERAS10_Dag8        ERAS10          8      27708254\n",
       "8  ERAS11_Dag0        ERAS11          0      33813547"
      ]
     },
     "execution_count": 9,
     "metadata": {},
     "output_type": "execute_result"
    }
   ],
   "source": [
    "filtered_palleja_metadata.head()"
   ]
  },
  {
   "cell_type": "code",
   "execution_count": 10,
   "id": "09fc101c-3c8a-47f3-9e64-9dc650e324ea",
   "metadata": {},
   "outputs": [],
   "source": [
    "filtered_palleja_metadata = filtered_palleja_metadata.sort_values(by = ['Sample_ID']).reset_index(drop=True)\n",
    "relab_counts = relab_counts.T.sort_index().T\n",
    "RelAB_filtered_data = RelAB_filtered_data.T.sort_index().T"
   ]
  },
  {
   "cell_type": "code",
   "execution_count": 18,
   "id": "f60851a5-0460-4c9c-88bc-d33bab445384",
   "metadata": {},
   "outputs": [
    {
     "data": {
      "text/plain": [
       "<Axes: ylabel='Count'>"
      ]
     },
     "execution_count": 18,
     "metadata": {},
     "output_type": "execute_result"
    },
    {
     "data": {
      "image/png": "[encoded data removed]",
      "text/plain": [
       "<Figure size 640x480 with 1 Axes>"
      ]
     },
     "metadata": {},
     "output_type": "display_data"
    }
   ],
   "source": [
    "import seaborn as sns\n",
    "sns.histplot(relab_counts.max(axis=1).sort_values())"
   ]
  },
  {
   "cell_type": "code",
   "execution_count": 9,
   "id": "9d001141-ac8b-4864-97cc-fd62ad4b7375",
   "metadata": {},
   "outputs": [],
   "source": [
    "# save files\n",
    "filtered_palleja_metadata.to_csv(\"real_datasets/palleja_dataset/ready_palleja_metadata.csv\")\n",
    "relab_counts.to_csv(\"real_datasets/palleja_dataset/ready_palleja_counts.csv\")\n",
    "RelAB_filtered_data.to_csv(\"real_datasets/palleja_dataset/ready_palleja_absolute.csv\")"
   ]
  },
  {
   "cell_type": "markdown",
   "id": "d7590514-972e-4d50-8b41-e1dccefc8888",
   "metadata": {},
   "source": [
    "## Mesnage"
   ]
  },
  {
   "cell_type": "code",
   "execution_count": 19,
   "id": "99684b12-022a-4058-8fe6-9bcb6df9c903",
   "metadata": {},
   "outputs": [],
   "source": [
    "mesnage_data = pyreadr.read_r('real_datasets/mesnage_dataset/Mesnage_2023_res_mOTUs.rds')[None]\n",
    "mesnage_metadata = pd.read_excel('real_datasets/mesnage_dataset/20230912_sample_metadata_anonymised.xlsx')"
   ]
  },
  {
   "cell_type": "code",
   "execution_count": 20,
   "id": "4d2cf3ba-bf06-4250-a7a0-80825ac4bb23",
   "metadata": {},
   "outputs": [],
   "source": [
    "mesnage_data.index = [f'feature{n}' for n in range(mesnage_data.shape[0])]"
   ]
  },
  {
   "cell_type": "code",
   "execution_count": 21,
   "id": "fd7678f3-788c-4d0b-ab95-e4c8f4bfac08",
   "metadata": {},
   "outputs": [],
   "source": [
    "mesnage_metadata_filtered = mesnage_metadata.query(\"Timepoint in ['Before', 'After'] and Type == 'Stool'\")[['sample.id', 'Study_Patient', 'Timepoint']].dropna()\n",
    "mesnage_data_filtered = mesnage_data[mesnage_metadata_filtered['sample.id']]"
   ]
  },
  {
   "cell_type": "code",
   "execution_count": 22,
   "id": "7730bf78-27ac-4105-ab87-9ed3113888bb",
   "metadata": {},
   "outputs": [],
   "source": [
    "# filter counts\n",
    "PA_filter = (mesnage_data_filtered\n",
    "             .astype(bool)\n",
    "             .astype(int)\n",
    "             .sum(axis=1)\n",
    "             .reset_index()\n",
    "             .rename({0:'N'}, axis=1)\n",
    "            )\n",
    "\n",
    "PA_filtered_data = mesnage_data_filtered.loc[PA_filter[PA_filter['N'] > int(mesnage_data_filtered.shape[1]*0.05)]['index']]\n",
    "PA_filtered_data = PA_filtered_data.iloc[:-1]"
   ]
  },
  {
   "cell_type": "code",
   "execution_count": 23,
   "id": "de38a54b-9593-4b9a-9e7d-ab29fa65c0f6",
   "metadata": {},
   "outputs": [],
   "source": [
    "# change to relative abundance\n",
    "relab_data = PA_filtered_data.div(PA_filtered_data.sum(axis=0), axis=1)\n",
    "\n",
    "# Calculate mean abundance\n",
    "mean_relab_data = relab_data.mean(axis=1).reset_index().rename({0:'N'}, axis=1)\n",
    "\n",
    "# Keep bacteria with high abundance\n",
    "keep_relab_bacteria = mean_relab_data.query(\"N > 1e-3\")['index']\n",
    "RelAB_filtered_data = PA_filtered_data.loc[keep_relab_bacteria].T\n",
    "relab_counts = RelAB_filtered_data.div(RelAB_filtered_data.sum(axis=0), axis=1).T"
   ]
  },
  {
   "cell_type": "code",
   "execution_count": 24,
   "id": "0ed94524-3e37-4c41-9dad-e85ee5e30f0d",
   "metadata": {},
   "outputs": [],
   "source": [
    "mesnage_metadata_filtered = (mesnage_metadata_filtered.\n",
    "                             rename({\"sample.id\":\"Sample_ID\", \"Study_Patient\":\"Individual_ID\"},\n",
    "                                    axis=1)\n",
    "                            )\n",
    "mesnage_metadata_filtered['Timepoint'] = mesnage_metadata_filtered.Timepoint.replace({'Before':0, 'After':1})"
   ]
  },
  {
   "cell_type": "code",
   "execution_count": 27,
   "id": "16acf8db-d38b-4684-9921-0ebd04024819",
   "metadata": {},
   "outputs": [
    {
     "data": {
      "text/plain": [
       "<Axes: ylabel='Count'>"
      ]
     },
     "execution_count": 27,
     "metadata": {},
     "output_type": "execute_result"
    },
    {
     "data": {
      "image/png": "[encoded data removed]",
      "text/plain": [
       "<Figure size 640x480 with 1 Axes>"
      ]
     },
     "metadata": {},
     "output_type": "display_data"
    }
   ],
   "source": [
    "import seaborn as sns\n",
    "sns.histplot(relab_counts.max(axis=1).sort_values())"
   ]
  },
  {
   "cell_type": "code",
   "execution_count": 16,
   "id": "f122aec2-b628-4007-869b-9bc0f62cd130",
   "metadata": {},
   "outputs": [],
   "source": [
    "# save files\n",
    "mesnage_metadata_filtered.to_csv(\"real_datasets/mesnage_dataset/ready_mesnage_metadata.csv\")\n",
    "relab_counts.to_csv(\"real_datasets/mesnage_dataset//ready_mesnage_counts.csv\")\n",
    "RelAB_filtered_data.to_csv(\"real_datasets/mesnage_dataset//ready_mesnage_absolute.csv\")"
   ]
  },
  {
   "cell_type": "code",
   "execution_count": 17,
   "id": "62777f67-353f-4901-85a1-9214e6f271de",
   "metadata": {},
   "outputs": [
    {
     "data": {
      "text/plain": [
       "((220, 179), (220, 179), (179, 220))"
      ]
     },
     "execution_count": 17,
     "metadata": {},
     "output_type": "execute_result"
    }
   ],
   "source": [
    "relab_counts.shape, relab_counts.shape, RelAB_filtered_data.shape"
   ]
  },
  {
   "cell_type": "code",
   "execution_count": 19,
   "id": "db94c33f-34b3-4c5f-bd5c-2165937f2f00",
   "metadata": {},
   "outputs": [
    {
     "data": {
      "text/html": [
       "<div>\n",
       "<style scoped>\n",
       "    .dataframe tbody tr th:only-of-type {\n",
       "        vertical-align: middle;\n",
       "    }\n",
       "\n",
       "    .dataframe tbody tr th {\n",
       "        vertical-align: top;\n",
       "    }\n",
       "\n",
       "    .dataframe thead th {\n",
       "        text-align: right;\n",
       "    }\n",
       "</style>\n",
       "<table border=\"1\" class=\"dataframe\">\n",
       "  <thead>\n",
       "    <tr style=\"text-align: right;\">\n",
       "      <th></th>\n",
       "      <th>Sample_ID</th>\n",
       "      <th>Individual_ID</th>\n",
       "      <th>Timepoint</th>\n",
       "    </tr>\n",
       "  </thead>\n",
       "  <tbody>\n",
       "    <tr>\n",
       "      <th>0</th>\n",
       "      <td>zr5240_132</td>\n",
       "      <td>GEN_2</td>\n",
       "      <td>0</td>\n",
       "    </tr>\n",
       "    <tr>\n",
       "      <th>1</th>\n",
       "      <td>zr5240_133</td>\n",
       "      <td>GEN_3</td>\n",
       "      <td>0</td>\n",
       "    </tr>\n",
       "    <tr>\n",
       "      <th>2</th>\n",
       "      <td>zr5240_134</td>\n",
       "      <td>GEN_4</td>\n",
       "      <td>0</td>\n",
       "    </tr>\n",
       "    <tr>\n",
       "      <th>3</th>\n",
       "      <td>zr5240_135</td>\n",
       "      <td>GEN_5</td>\n",
       "      <td>0</td>\n",
       "    </tr>\n",
       "    <tr>\n",
       "      <th>4</th>\n",
       "      <td>zr5240_136</td>\n",
       "      <td>GEN_6</td>\n",
       "      <td>0</td>\n",
       "    </tr>\n",
       "    <tr>\n",
       "      <th>...</th>\n",
       "      <td>...</td>\n",
       "      <td>...</td>\n",
       "      <td>...</td>\n",
       "    </tr>\n",
       "    <tr>\n",
       "      <th>175</th>\n",
       "      <td>zr5240_66</td>\n",
       "      <td>OF_45</td>\n",
       "      <td>1</td>\n",
       "    </tr>\n",
       "    <tr>\n",
       "      <th>176</th>\n",
       "      <td>zr5240_67</td>\n",
       "      <td>OF_44</td>\n",
       "      <td>1</td>\n",
       "    </tr>\n",
       "    <tr>\n",
       "      <th>177</th>\n",
       "      <td>zr5240_68</td>\n",
       "      <td>OF_43</td>\n",
       "      <td>1</td>\n",
       "    </tr>\n",
       "    <tr>\n",
       "      <th>178</th>\n",
       "      <td>zr5240_69</td>\n",
       "      <td>OF_41</td>\n",
       "      <td>1</td>\n",
       "    </tr>\n",
       "    <tr>\n",
       "      <th>179</th>\n",
       "      <td>zr5240_70</td>\n",
       "      <td>OF_40</td>\n",
       "      <td>1</td>\n",
       "    </tr>\n",
       "  </tbody>\n",
       "</table>\n",
       "<p>179 rows × 3 columns</p>\n",
       "</div>"
      ],
      "text/plain": [
       "      Sample_ID Individual_ID  Timepoint\n",
       "0    zr5240_132         GEN_2          0\n",
       "1    zr5240_133         GEN_3          0\n",
       "2    zr5240_134         GEN_4          0\n",
       "3    zr5240_135         GEN_5          0\n",
       "4    zr5240_136         GEN_6          0\n",
       "..          ...           ...        ...\n",
       "175   zr5240_66         OF_45          1\n",
       "176   zr5240_67         OF_44          1\n",
       "177   zr5240_68         OF_43          1\n",
       "178   zr5240_69         OF_41          1\n",
       "179   zr5240_70         OF_40          1\n",
       "\n",
       "[179 rows x 3 columns]"
      ]
     },
     "execution_count": 19,
     "metadata": {},
     "output_type": "execute_result"
    }
   ],
   "source": [
    "mesnage_metadata_filtered"
   ]
  }
 ],
 "metadata": {
  "kernelspec": {
   "display_name": "ml_env",
   "language": "python",
   "name": "ml_env"
  },
  "language_info": {
   "codemirror_mode": {
    "name": "ipython",
    "version": 3
   },
   "file_extension": ".py",
   "mimetype": "text/x-python",
   "name": "python",
   "nbconvert_exporter": "python",
   "pygments_lexer": "ipython3",
   "version": "3.8.16"
  }
 },
 "nbformat": 4,
 "nbformat_minor": 5
}
