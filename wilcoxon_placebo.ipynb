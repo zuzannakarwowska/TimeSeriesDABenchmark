{
 "cells": [
  {
   "cell_type": "code",
   "execution_count": 1,
   "id": "f4151360-45f0-4044-86e0-7a60ba99eb9a",
   "metadata": {},
   "outputs": [],
   "source": [
    "import warnings\n",
    "warnings.filterwarnings(\"ignore\")\n",
    "from skbio.stats.composition import clr\n",
    "\n",
    "from statsmodels.stats import multitest\n",
    "import numpy as np\n",
    "import pandas as pd\n",
    "import pyreadr\n",
    "from scipy.stats import wilcoxon\n",
    "from pathlib import Path"
   ]
  },
  {
   "cell_type": "markdown",
   "id": "07287a44-1bda-415a-9851-dd2b3c0a9e74",
   "metadata": {},
   "source": [
    "### WILCOXON PAIRED TEST"
   ]
  },
  {
   "cell_type": "code",
   "execution_count": 2,
   "id": "39ff05e6-f017-4c9f-83c6-1d6507215b91",
   "metadata": {},
   "outputs": [],
   "source": [
    "def to_clr(df, pseudocount_vector):\n",
    "    ''' data - features as index and samples as columns '''\n",
    "    \n",
    "    df = df.div(df.sum(axis=1), axis=0)\n",
    "    data = df + pseudocount_vector.reshape(len(pseudocount_vector), 1)\n",
    "    data = data.T.copy()\n",
    "    #data += 1e-2                                  # add pseudocount\n",
    "    return pd.DataFrame(clr(data.T), columns=data.index, index=data.columns)"
   ]
  },
  {
   "cell_type": "code",
   "execution_count": 3,
   "id": "1612585f-fde3-409a-aa70-a1177fb034c0",
   "metadata": {},
   "outputs": [],
   "source": [
    "# Use pathlib for path handling\n",
    "#i=1; N=10; sampling =[10, 19]\n",
    "#sim_dir = \"/Users/zkarwowska/Desktop/EMBL_project/zeevi_dataset_v5/simulation/efs2/\"\n",
    "def process_data(i, N, sampling, transformation, sim_dir, efs):\n",
    "    \n",
    "    base_path = Path(sim_dir) / f\"rep{i}\"\n",
    "\n",
    "    # Load data more efficiently\n",
    "    counts_intervention = pyreadr.read_r(base_path / f\"counts_n{N}.rds\")[None]\n",
    "    metadata_intervention = pyreadr.read_r(base_path / f\"metadata_n{N}.rds\")[None]\n",
    "    \n",
    "    counts_placebo = pyreadr.read_r(base_path / f\"placebo_counts_n{N}.rds\")[None]\n",
    "    metadata_placebo = pyreadr.read_r(base_path / f\"placebo_metadata_n{N}.rds\")[None]\n",
    "    \n",
    "    gt_file = pd.read_csv(base_path / 'gt_features.tsv', sep='\\t')\n",
    "    \n",
    "    # Filter metadata once\n",
    "    filtered_metadata_intervention = metadata_intervention[metadata_intervention['delta.t'].isin(sampling)].copy()\n",
    "    filtered_metadata_placebo = metadata_placebo[metadata_placebo['delta.t'].isin(sampling)].copy()\n",
    "    \n",
    "    # Filter counts\n",
    "    filtered_counts_intervention = counts_intervention[filtered_metadata_intervention['sample_name']].T\n",
    "    filtered_counts_placebo = counts_placebo[filtered_metadata_placebo['sample_name']].T\n",
    "\n",
    "    if transformation == 'clr':\n",
    "    \n",
    "        pseudocount_vector_intervention = filtered_counts_intervention[filtered_counts_intervention > 0].min(axis=1).values * 0.1\n",
    "        pseudocount_vector_placebo = filtered_counts_placebo[filtered_counts_placebo > 0].min(axis=1).values * 0.1\n",
    "    \n",
    "        intervention_counts_clr = to_clr(filtered_counts_intervention, pseudocount_vector_intervention)\n",
    "        placebo_counts_clr = to_clr(filtered_counts_placebo, pseudocount_vector_placebo)\n",
    "    \n",
    "    elif transformation == 'log_relab':\n",
    "        intervention_counts_clr = np.log(filtered_counts_intervention + 0.01)\n",
    "        placebo_counts_clr = np.log(filtered_counts_placebo + 0.01)\n",
    "\n",
    "\n",
    "    results = []\n",
    "    for feature in intervention_counts_clr.columns:\n",
    "        \n",
    "        x1 = intervention_counts_clr[[feature]].values.reshape(len(intervention_counts_clr), ); \n",
    "        x2 = placebo_counts_clr[[feature]].values.reshape(len(placebo_counts_clr), )\n",
    "        \n",
    "        stat, p_value = wilcoxon(x1, x2, \n",
    "                                 zero_method='zsplit', \n",
    "                                 alternative='two-sided')\n",
    "        results.append({'feature':feature,\n",
    "                        'pvalue':p_value})\n",
    "    \n",
    "    results_df = pd.DataFrame(results)\n",
    "    results_df = pd.merge(results_df.set_index('feature'), gt_file.set_index('feature'), left_index=True, right_index=True)\n",
    "    results_df['effect_size'] = efs\n",
    "\n",
    "    #out_path = '/Users/zkarwowska/Desktop/EMBL_project/zeevi_dataset_v5/results/wilcoxon/placebo/'\n",
    "    #results_df.to_csv(f'{out_path}{transformation}/wilcoxon_sampling_{N}_efs_{efs}_rep_{i}_d_{len(sampling)}.csv')\n",
    "    results_df.to_csv(f'/Users/zkarwowska/Desktop/EMBL_project/zeevi_dataset_v5/results/wilcoxon/placebo/{transformation}/wilcoxon_sampling_{N}_efs_{efs}_rep_{i}_d_{len(sampling)}.csv')\n"
   ]
  },
  {
   "cell_type": "code",
   "execution_count": 4,
   "id": "35458ac8-6a23-40c3-ba79-09871f84dd9b",
   "metadata": {},
   "outputs": [],
   "source": [
    "#sim_dir = \"/Users/zkarwowska/Desktop/EMBL_project/zeevi_dataset_v5/simulation/efs2/\"\n",
    "wd = '/Users/zkarwowska/Desktop/EMBL_project/zeevi_dataset_v5/results/wilcoxon/one_arm_all/'\n",
    "\n",
    "Sampling = [[10, 19], [10, 12, 16, 18], [10, 12, 14, 16, 18, 19]]\n",
    "\n",
    "Wilcoxon_results = pd.DataFrame()\n",
    "for efs in [125, 15, 2, 3, 5]:\n",
    "    sim_dir = f\"/Users/zkarwowska/new_embl_folder/zeevi_dataset_v5/simulation/efs{efs}/\"\n",
    "    for transformation in ['clr', 'log_relab']:\n",
    "            for N in [10, 20, 30, 40, 50, 60, 70, 80]:\n",
    "                for sampling in Sampling:\n",
    "                        for i in range(1, 11):\n",
    "\n",
    "                            file = f'{wd}/{transformation}/wilcoxon_sampling_{N}_efs_{efs}_rep_{i}_d_{len(sampling)}.csv'\n",
    "                            my_file = Path(file)\n",
    "                            if my_file.is_file():\n",
    "                                pass\n",
    "                            else:\n",
    "                                process_data(i, N, sampling, transformation, sim_dir, efs)"
   ]
  }
 ],
 "metadata": {
  "kernelspec": {
   "display_name": "ml_env",
   "language": "python",
   "name": "ml_env"
  },
  "language_info": {
   "codemirror_mode": {
    "name": "ipython",
    "version": 3
   },
   "file_extension": ".py",
   "mimetype": "text/x-python",
   "name": "python",
   "nbconvert_exporter": "python",
   "pygments_lexer": "ipython3",
   "version": "3.8.16"
  }
 },
 "nbformat": 4,
 "nbformat_minor": 5
}
