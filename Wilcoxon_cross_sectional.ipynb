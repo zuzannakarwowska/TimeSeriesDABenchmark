{
 "cells": [
  {
   "cell_type": "code",
   "execution_count": 11,
   "id": "931217b1-faa8-43a4-bdae-db30b708c0d9",
   "metadata": {},
   "outputs": [],
   "source": [
    "import warnings\n",
    "warnings.filterwarnings(\"ignore\")\n",
    "from skbio.stats.composition import clr\n",
    "\n",
    "from statsmodels.stats import multitest\n",
    "import numpy as np\n",
    "import pandas as pd\n",
    "import pyreadr\n",
    "from scipy.stats import mannwhitneyu\n",
    "from pathlib import Path"
   ]
  },
  {
   "cell_type": "code",
   "execution_count": 12,
   "id": "c71f8a0c-f4e8-4196-9041-731a726f9471",
   "metadata": {},
   "outputs": [],
   "source": [
    "def to_clr(df, pseudocount_vector):\n",
    "    ''' data - features as index and samples as columns '''\n",
    "    \n",
    "    df = df.div(df.sum(axis=1), axis=0)\n",
    "    data = df + pseudocount_vector.reshape(len(pseudocount_vector), 1)\n",
    "    data = data.T.copy()\n",
    "    #data += 1e-2                                  # add pseudocount\n",
    "    return pd.DataFrame(clr(data.T), columns=data.index, index=data.columns)"
   ]
  },
  {
   "cell_type": "code",
   "execution_count": 13,
   "id": "6c5e4d70-3dba-41f0-9954-5f55e20d3386",
   "metadata": {},
   "outputs": [],
   "source": [
    "def process_data(i, N, transformation, sim_dir, efs):\n",
    "        \n",
    "    base_path = Path(sim_dir) / f\"rep{i}\"\n",
    "    \n",
    "    # Load data more efficiently\n",
    "    counts_intervention = pyreadr.read_r(base_path / f\"counts_n{N}.rds\")[None]\n",
    "    metadata_intervention = pyreadr.read_r(base_path / f\"metadata_n{N}.rds\")[None]\n",
    "    \n",
    "    counts_placebo = pyreadr.read_r(base_path / f\"placebo_counts_n{N}.rds\")[None]\n",
    "    metadata_placebo = pyreadr.read_r(base_path / f\"placebo_metadata_n{N}.rds\")[None]\n",
    "    \n",
    "    gt_file = pd.read_csv(base_path / 'gt_features.tsv', sep='\\t')\n",
    "    \n",
    "    filtered_metadata_intervention = metadata_intervention[metadata_intervention['delta.t'] == 15].copy()\n",
    "    filtered_metadata_placebo = metadata_placebo[metadata_placebo['delta.t'] == 15].copy()\n",
    "    \n",
    "    # Filter counts\n",
    "    filtered_counts_intervention = counts_intervention[filtered_metadata_intervention['sample_name']].T\n",
    "    filtered_counts_placebo = counts_placebo[filtered_metadata_placebo['sample_name']].T\n",
    "    \n",
    "    if transformation == 'clr':\n",
    "    \n",
    "        pseudocount_vector_intervention = filtered_counts_intervention[filtered_counts_intervention > 0].min(axis=1).values * 0.1\n",
    "        pseudocount_vector_placebo = filtered_counts_placebo[filtered_counts_placebo > 0].min(axis=1).values * 0.1\n",
    "    \n",
    "        intervention_counts_clr = to_clr(filtered_counts_intervention, pseudocount_vector_intervention)\n",
    "        placebo_counts_clr = to_clr(filtered_counts_placebo, pseudocount_vector_placebo)\n",
    "    \n",
    "    elif transformation == 'log':\n",
    "        intervention_counts_clr = np.log(filtered_counts_intervention + 0.001)\n",
    "        placebo_counts_clr = np.log(filtered_counts_placebo + 0.001)\n",
    "    \n",
    "    \n",
    "    results = []\n",
    "    for feature in intervention_counts_clr.columns:\n",
    "        \n",
    "        x1 = intervention_counts_clr[[feature]].values.reshape(len(intervention_counts_clr), ); \n",
    "        x2 = placebo_counts_clr[[feature]].values.reshape(len(placebo_counts_clr), )\n",
    "        \n",
    "        stat, p_value = mannwhitneyu(x1, x2, \n",
    "                                 alternative='two-sided')\n",
    "        results.append({'feature':feature,\n",
    "                        'pvalue':p_value})\n",
    "    \n",
    "    results_df = pd.DataFrame(results)\n",
    "    results_df = pd.merge(results_df.set_index('feature'), gt_file.set_index('feature'), left_index=True, right_index=True)\n",
    "    results_df['effect_size'] = efs\n",
    "    results_df['transformation'] = transformation\n",
    "    results_df.to_csv(f'/Users/zkarwowska/Desktop/EMBL_project/zeevi_dataset_v5/results/baseline/{transformation}/baseline_sampling_{N}_efs_{efs}_rep_{i}.csv')"
   ]
  },
  {
   "cell_type": "code",
   "execution_count": 15,
   "id": "e9cf7d14-018b-4671-b979-865a704cb9e9",
   "metadata": {},
   "outputs": [],
   "source": [
    "Wilcoxon_results = pd.DataFrame()\n",
    "for efs in [125, 15, 2, 3, 5]:\n",
    "    sim_dir = f\"/Users/zkarwowska/new_embl_folder/zeevi_dataset_v5/simulation/efs{efs}/\"\n",
    "    for transformation in ['clr', 'log']:\n",
    "            for N in [40]:\n",
    "                for i in range(1, 11):\n",
    "                    results = process_data(i, N, transformation, sim_dir, efs)"
   ]
  }
 ],
 "metadata": {
  "kernelspec": {
   "display_name": "ml_env",
   "language": "python",
   "name": "ml_env"
  },
  "language_info": {
   "codemirror_mode": {
    "name": "ipython",
    "version": 3
   },
   "file_extension": ".py",
   "mimetype": "text/x-python",
   "name": "python",
   "nbconvert_exporter": "python",
   "pygments_lexer": "ipython3",
   "version": "3.8.16"
  }
 },
 "nbformat": 4,
 "nbformat_minor": 5
}
